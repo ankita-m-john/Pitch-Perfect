{
 "cells": [
  {
   "cell_type": "code",
   "execution_count": 1,
   "metadata": {},
   "outputs": [
    {
     "ename": "SyntaxError",
     "evalue": "invalid syntax (2580110490.py, line 6)",
     "output_type": "error",
     "traceback": [
      "\u001b[1;36m  Cell \u001b[1;32mIn[1], line 6\u001b[1;36m\u001b[0m\n\u001b[1;33m    if ~exist(dataFolderTrain,\"dir\")\u001b[0m\n\u001b[1;37m                                    ^\u001b[0m\n\u001b[1;31mSyntaxError\u001b[0m\u001b[1;31m:\u001b[0m invalid syntax\n"
     ]
    }
   ],
   "source": [
    "url = \"https://github.com/brendenlake/omniglot/raw/master/python/images_background.zip\";\n",
    "downloadFolder = tempdir;\n",
    "filename = fullfile(downloadFolder,\"images_background.zip\");\n",
    "\n",
    "dataFolderTrain = fullfile(downloadFolder,\"images_background\");\n",
    "if ~exist(dataFolderTrain,\"dir\")\n",
    "    disp(\"Downloading Omniglot training data (4.5 MB)...\")\n",
    "    websave(filename,url);\n",
    "    unzip(filename,downloadFolder);\n",
    "end\n",
    "disp(\"Training data downloaded.\")"
   ]
  }
 ],
 "metadata": {
  "kernelspec": {
   "display_name": "env",
   "language": "python",
   "name": "python3"
  },
  "language_info": {
   "codemirror_mode": {
    "name": "ipython",
    "version": 3
   },
   "file_extension": ".py",
   "mimetype": "text/x-python",
   "name": "python",
   "nbconvert_exporter": "python",
   "pygments_lexer": "ipython3",
   "version": "3.9.6"
  },
  "orig_nbformat": 4,
  "vscode": {
   "interpreter": {
    "hash": "d19505745b1a4e1b0335a5486224b999fda30d88b3d1204d59c1efb92add18c6"
   }
  }
 },
 "nbformat": 4,
 "nbformat_minor": 2
}
